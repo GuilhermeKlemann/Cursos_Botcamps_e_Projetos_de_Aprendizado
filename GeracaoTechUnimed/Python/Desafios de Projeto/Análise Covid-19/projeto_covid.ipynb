{
 "cells": [
  {
   "cell_type": "markdown",
   "id": "9868054b-9e95-4f48-a8aa-92695f3fdfcb",
   "metadata": {
    "tags": []
   },
   "source": [
    "# Projeto COVID-19\n",
    "\n",
    "## Digital Innovation One"
   ]
  },
  {
   "cell_type": "markdown",
   "id": "67433197-2ad1-4573-b30c-2fc6e9442f9a",
   "metadata": {
    "jp-MarkdownHeadingCollapsed": true,
    "tags": []
   },
   "source": [
    "### Introdução\n",
    "Primeiro vamos importar algumas das bibliotecas necessárias para o nosso projeto."
   ]
  },
  {
   "cell_type": "code",
   "execution_count": null,
   "id": "de6b82f7-93f8-4e7d-9f15-e00c4901364b",
   "metadata": {},
   "outputs": [],
   "source": [
    "import pandas as pd\n",
    "import numpy as np\n",
    "from datetime import datetime\n",
    "import plotly.express as px\n",
    "import plotly.graph_objects as go"
   ]
  },
  {
   "cell_type": "code",
   "execution_count": null,
   "id": "0736910e-884d-43cf-a4f7-5a10f4ebcd2b",
   "metadata": {},
   "outputs": [],
   "source": [
    "# Em seguida, vamos importar os dados para o projeto\n",
    "url = 'https://github.com/neylsoncrepalde/projeto_eda_covid/blob/master/covid_19_data.csv?raw=true'"
   ]
  },
  {
   "cell_type": "code",
   "execution_count": null,
   "id": "3fe7ce05-21b0-49bd-8a8d-0bb311b0991c",
   "metadata": {},
   "outputs": [],
   "source": [
    "df = pd.read_csv(url, parse_dates=['ObservationDate', 'Last Update'])\n",
    "df"
   ]
  },
  {
   "cell_type": "code",
   "execution_count": null,
   "id": "a8de7afb-7d4c-43a6-8f2b-252aa136a359",
   "metadata": {},
   "outputs": [],
   "source": [
    "# Conferindo os tipos de cada coluna\n",
    "df.dtypes"
   ]
  },
  {
   "cell_type": "markdown",
   "id": "c1e6d282-3586-4147-996e-59de4efa013a",
   "metadata": {},
   "source": [
    "Nomes de colunas não devem ter letras maiúsculas e nem caracteres especiais. Vamos implementar uma função para fazer a limpeza dos nomes dessas colunas"
   ]
  },
  {
   "cell_type": "code",
   "execution_count": null,
   "id": "6f2d6dd3-7b6c-409f-a2d1-48b93d653802",
   "metadata": {},
   "outputs": [],
   "source": [
    "import re\n",
    "\n",
    "def corrige_colunas(col_name):\n",
    "    return re.sub(r\"[/| ]\", \"\", col_name).lower()"
   ]
  },
  {
   "cell_type": "code",
   "execution_count": null,
   "id": "4a11529f-9abe-4bb2-ba4c-63460b7af370",
   "metadata": {},
   "outputs": [],
   "source": [
    "corrige_colunas(\"AdgE/P ou\") # Teste"
   ]
  },
  {
   "cell_type": "code",
   "execution_count": null,
   "id": "e790e58a-da43-474b-b8ef-c628632234ed",
   "metadata": {},
   "outputs": [],
   "source": [
    "# Corrigindo todas as colunas do df\n",
    "df.columns = [corrige_colunas(col) for col in df.columns]"
   ]
  },
  {
   "cell_type": "code",
   "execution_count": null,
   "id": "e7bffefd-50dc-4969-a2da-56944d18ddc4",
   "metadata": {},
   "outputs": [],
   "source": [
    "df"
   ]
  },
  {
   "cell_type": "markdown",
   "id": "88f6f599-fbe8-4592-ba82-4b8a9ccbc2d6",
   "metadata": {
    "jp-MarkdownHeadingCollapsed": true,
    "tags": []
   },
   "source": [
    "### Brasil\n",
    "\n",
    "Selecionando apenas os dados do Brasil para investigar"
   ]
  },
  {
   "cell_type": "code",
   "execution_count": null,
   "id": "8b8b8951-ac37-45a3-b16e-f8ab36e89a20",
   "metadata": {},
   "outputs": [],
   "source": [
    "df.countryregion.unique()"
   ]
  },
  {
   "cell_type": "code",
   "execution_count": null,
   "id": "e49763aa-d032-402c-a359-ce0f924e8180",
   "metadata": {},
   "outputs": [],
   "source": [
    "df.loc[df.countryregion == 'Brazil']"
   ]
  },
  {
   "cell_type": "code",
   "execution_count": null,
   "id": "5713d128-1e90-4a19-b780-2d8d2db49347",
   "metadata": {},
   "outputs": [],
   "source": [
    "brasil = df.loc[\n",
    "    (df.countryregion == 'Brazil') &\n",
    "    (df.confirmed > 0)\n",
    "]"
   ]
  },
  {
   "cell_type": "code",
   "execution_count": null,
   "id": "01bb545e-dbd5-4c55-a770-0a6acf4cc22b",
   "metadata": {},
   "outputs": [],
   "source": [
    "brasil"
   ]
  },
  {
   "cell_type": "code",
   "execution_count": null,
   "id": "dbbdf637-931e-4507-a8f9-eaf112d04ea7",
   "metadata": {},
   "outputs": [],
   "source": [
    "# Investigando os casos confirmados\n",
    "px.line(brasil, 'observationdate', 'confirmed', title='Casos confirmados no Brasil')"
   ]
  },
  {
   "cell_type": "markdown",
   "id": "0dc76dfb-3b06-41f2-b1cf-1800b4999c9a",
   "metadata": {
    "jp-MarkdownHeadingCollapsed": true,
    "tags": []
   },
   "source": [
    "### Novos casos por dia"
   ]
  },
  {
   "cell_type": "code",
   "execution_count": null,
   "id": "70d386bc-999d-4b43-8f48-8730cc61cd63",
   "metadata": {},
   "outputs": [],
   "source": [
    "brasil.shape[0]"
   ]
  },
  {
   "cell_type": "code",
   "execution_count": null,
   "id": "4a35ce10-9335-4c3a-8479-ed0cb003b44e",
   "metadata": {},
   "outputs": [],
   "source": [
    "# Técnica de programação funcional\n",
    "brasil['novoscasos'] = list(map(\n",
    "    lambda x: 0 if (x==0) else brasil['confirmed'].iloc[x] - brasil['confirmed'].iloc[x-1],\n",
    "    np.arange(brasil.shape[0])\n",
    "))"
   ]
  },
  {
   "cell_type": "code",
   "execution_count": null,
   "id": "8dfb82e5-6361-4bba-bf49-85e0aa1e2481",
   "metadata": {},
   "outputs": [],
   "source": [
    "# Visualizando\n",
    "px.line(brasil, x='observationdate', y='novoscasos', title='Novos casos por dia')\n"
   ]
  },
  {
   "cell_type": "markdown",
   "id": "5de61ecf-c46a-4c05-9a30-1493d7c69a54",
   "metadata": {
    "jp-MarkdownHeadingCollapsed": true,
    "tags": []
   },
   "source": [
    "### Mortes"
   ]
  },
  {
   "cell_type": "code",
   "execution_count": null,
   "id": "976ad0c4-3ffd-4f67-9ecb-580a3fee1d29",
   "metadata": {},
   "outputs": [],
   "source": [
    "fig = go.Figure()\n",
    "\n",
    "fig.add_trace(\n",
    "    go.Scatter(x=brasil.observationdate, y=brasil.deaths, name='Mortes', mode='lines+markers',\n",
    "              line=dict(color='red'))\n",
    ")\n",
    "#Edita o layout\n",
    "fig.update_layout(title='Mortes por COVID-19 no Brasil',\n",
    "                   xaxis_title='Data',\n",
    "                   yaxis_title='Número de mortes')\n",
    "fig.show()"
   ]
  },
  {
   "cell_type": "markdown",
   "id": "17e2f091-fb13-4dc7-95c2-5bda8bc78c8c",
   "metadata": {
    "jp-MarkdownHeadingCollapsed": true,
    "tags": []
   },
   "source": [
    "### Taxa de crescimento\n",
    "\n",
    "taxa_crescimento = (presente/passado)**(1/n) - 1"
   ]
  },
  {
   "cell_type": "code",
   "execution_count": null,
   "id": "1764e55e-5038-4026-a2b7-42e287da3a1c",
   "metadata": {},
   "outputs": [],
   "source": [
    "def taxa_crescimento(data, variable, data_inicio=None, data_fim=None):\n",
    "    if data_inicio == None:\n",
    "        data_inicio = data.observationdate.loc[data[variable] > 0].min()\n",
    "    else:\n",
    "        data_inicio = pd.to_datetime(data_inicio)\n",
    "        \n",
    "    if data_fim == None:\n",
    "        data_fim = data.observationdate.iloc[-1]\n",
    "    else:\n",
    "        data_fim = pd.to_datetime(data_fim)\n",
    "        \n",
    "    # Definindo os valores do presente e passado\n",
    "    passado = data.loc[data.observationdate == data_inicio, variable].values[0]\n",
    "    presente = data.loc[data.observationdate == data_fim, variable].values[0]\n",
    "    \n",
    "    # Definindo o número de intervalo no tempo que vamos avaliar\n",
    "    n = (data_fim - data_inicio).days\n",
    "    \n",
    "    # Calcular a taxa\n",
    "    taxa = (presente/passado)**(1/n) - 1\n",
    "\n",
    "    return taxa*100"
   ]
  },
  {
   "cell_type": "code",
   "execution_count": null,
   "id": "509e33f8-fa36-4fe4-8c8a-a052bd0bc6e0",
   "metadata": {},
   "outputs": [],
   "source": [
    "# Taxa de crescimento médio do COVID no Brasil em todo o período\n",
    "cresc_medio = taxa_crescimento(brasil, 'confirmed')\n",
    "print(f\"O crescimento médio do COVID no Brasil no período avaliado foi de {cresc_medio.round(2)}%.\")"
   ]
  },
  {
   "cell_type": "code",
   "execution_count": null,
   "id": "eacfacf1-cf5a-45b6-bb63-d2a2299073fe",
   "metadata": {},
   "outputs": [],
   "source": [
    "def taxa_crescimento_diaria(data, variable, data_inicio=None):\n",
    "    if data_inicio == None:\n",
    "        data_inicio = data.observationdate.loc[data[variable] > 0].min()\n",
    "    else:\n",
    "        data_inicio = pd.to_datetime(data_inicio)\n",
    "        \n",
    "    data_fim = data.observationdate.max()\n",
    "    n = (data_fim - data_inicio).days\n",
    "    taxas = list(map(\n",
    "        lambda x: (data[variable].iloc[x] - data[variable].iloc[x-1]) / data[variable].iloc[x-1],\n",
    "        range(1,n+1)\n",
    "    ))\n",
    "    return np.array(taxas)*100"
   ]
  },
  {
   "cell_type": "code",
   "execution_count": null,
   "id": "f7bd388a-7115-42ae-99ab-3177a956f9b7",
   "metadata": {},
   "outputs": [],
   "source": [
    "tx_dia = taxa_crescimento_diaria(brasil, 'confirmed')"
   ]
  },
  {
   "cell_type": "code",
   "execution_count": null,
   "id": "17e39d87-38a1-407e-a018-844ce9af3c14",
   "metadata": {},
   "outputs": [],
   "source": [
    "tx_dia"
   ]
  },
  {
   "cell_type": "code",
   "execution_count": null,
   "id": "fe42b902-d216-4374-a9ad-0393fb0bf70f",
   "metadata": {},
   "outputs": [],
   "source": [
    "primeiro_dia = brasil.observationdate.loc[brasil.confirmed > 0].min()\n",
    "\n",
    "px.line(x=pd.date_range(primeiro_dia, brasil.observationdate.max())[1:],\n",
    "    y=tx_dia, title='Taxa de crescimento de casos confirmados no Brasil')"
   ]
  },
  {
   "cell_type": "markdown",
   "id": "2fa8c280-710a-43df-868f-2f991b783c7c",
   "metadata": {
    "jp-MarkdownHeadingCollapsed": true,
    "tags": []
   },
   "source": [
    "### Predições"
   ]
  },
  {
   "cell_type": "code",
   "execution_count": null,
   "id": "ea655fad-18bc-4d6c-aaac-792744f30439",
   "metadata": {},
   "outputs": [],
   "source": [
    "from statsmodels.tsa.seasonal import seasonal_decompose\n",
    "import matplotlib.pyplot as plt"
   ]
  },
  {
   "cell_type": "code",
   "execution_count": null,
   "id": "addb54f5-a59c-4827-afd9-6a6b104e5544",
   "metadata": {},
   "outputs": [],
   "source": [
    "confirmados = brasil.confirmed\n",
    "confirmados.index = brasil.observationdate\n",
    "confirmados"
   ]
  },
  {
   "cell_type": "code",
   "execution_count": null,
   "id": "aeb62c42-872d-4d4f-853e-261686132792",
   "metadata": {},
   "outputs": [],
   "source": [
    "res = seasonal_decompose(confirmados)"
   ]
  },
  {
   "cell_type": "code",
   "execution_count": null,
   "id": "9c1d438a-721a-4b5f-9a26-fbf776349331",
   "metadata": {},
   "outputs": [],
   "source": [
    "dig, (ax1, ax2, ax3, ax4) = plt.subplots(4, 1, figsize=(10, 8))\n",
    "\n",
    "ax1.plot(res.observed)\n",
    "ax2.plot(res.trend)\n",
    "ax3.plot(res.seasonal)\n",
    "ax4.plot(confirmados.index, res.resid)\n",
    "ax4.axhline(0, linestyle='dashed', c='black')"
   ]
  },
  {
   "cell_type": "markdown",
   "id": "9d94df18-2e6d-4ad5-90a5-8ff72a43fd89",
   "metadata": {
    "jp-MarkdownHeadingCollapsed": true,
    "tags": []
   },
   "source": [
    "### ARIMA"
   ]
  },
  {
   "cell_type": "code",
   "execution_count": null,
   "id": "1d7b2afd-5fb6-4608-a0fa-6e8766942c73",
   "metadata": {
    "scrolled": true,
    "tags": []
   },
   "outputs": [],
   "source": [
    "!pip install pmdarima"
   ]
  },
  {
   "cell_type": "code",
   "execution_count": null,
   "id": "5a2e4046-941b-46ac-a00b-fdefb9b9963f",
   "metadata": {},
   "outputs": [],
   "source": [
    "from pmdarima.arima import auto_arima\n",
    "modelo = auto_arima(confirmados)"
   ]
  },
  {
   "cell_type": "code",
   "execution_count": null,
   "id": "3b3d48b6-6f71-491b-94e6-d69493d7b95a",
   "metadata": {},
   "outputs": [],
   "source": [
    "fig = go.Figure(go.Scatter(\n",
    "    x=confirmados.index, y=confirmados, name='Observados'\n",
    "))\n",
    "\n",
    "fig.add_trace(go.Scatter(\n",
    "  x=confirmados.index, y=modelo.predict_in_sample(), name='Preditos'  \n",
    "))\n",
    "\n",
    "fig.add_trace(go.Scatter(\n",
    "  x=pd.date_range('2020-05-20', '2020-06-20'), y=modelo.predict(31), name='Forecast'  \n",
    "))\n",
    "\n",
    "fig.update_layout(title='Previsão de casos confirmados para os próximos 30 dias',\n",
    "                 yaxis_title='Casos confirmados', xaxis_title='Data')\n",
    "fig.show()"
   ]
  },
  {
   "cell_type": "markdown",
   "id": "ecd1399f-6e4c-4fe0-8d19-7a1de1c15309",
   "metadata": {},
   "source": [
    "### Modelo de Crescimento\n",
    "\n",
    "Usando a biblioteca fbprophet"
   ]
  },
  {
   "cell_type": "code",
   "execution_count": null,
   "id": "ce85d5d8-d445-477b-953a-4a7515e6ff46",
   "metadata": {},
   "outputs": [],
   "source": [
    "!conda install -c conda-forge fbprophet -y # Instalação"
   ]
  },
  {
   "cell_type": "code",
   "execution_count": null,
   "id": "a2c81326-f6cb-4dd6-bacb-b036e20226cc",
   "metadata": {},
   "outputs": [],
   "source": [
    "from fbprophet import Prophet"
   ]
  },
  {
   "cell_type": "code",
   "execution_count": null,
   "id": "08af7b5e-5230-4eda-9623-fd56076c6811",
   "metadata": {},
   "outputs": [],
   "source": [
    "# Pre processamentos\n",
    "\n",
    "train = confirmados.reset_index()[:-5]\n",
    "test = confirmados.reset_index()[-5:]\n",
    "\n",
    "# Renomeando colunas\n",
    "train.rename(columns={'observationdate':'ds', 'confirmed', 'y'}, inplace=True)\n",
    "test.rename(columns={'observationdate':'ds', 'confirmed', 'y'}, inplace=True)\n",
    "\n",
    "# Definir o modelo de crescimento\n",
    "profeta = Prophet(growth='logistic', changepoints=['2020-03-21', '2020-03-30', '2020-04-25', '2020-05-03', '2020-05-10'])\n",
    "\n",
    "pop = 211463256 # População brasileira total\n",
    "train['cap'] = pop\n",
    "\n",
    "# Treinando o modelo\n",
    "profeta.fit(train)\n",
    "\n",
    "# Construindo previsões para o futuro\n",
    "future_dates = profeta.make_future_dataframe(periods=200)\n",
    "future_dates['cap'] = pop\n",
    "forecast = profeta.predict(future_dates)"
   ]
  },
  {
   "cell_type": "code",
   "execution_count": null,
   "id": "ce516553-5fd8-4bf9-b157-95a5ea4e5c43",
   "metadata": {},
   "outputs": [],
   "source": [
    "fig = go.Figure()\n",
    "\n",
    "fig.add_trace(go.Scatter(x=forecast.ds, y=forecast.yhat, name='Predição'))\n",
    "fig.add_trace(go.Scatter(x=train.ds, y=train.y, name='Observados - Treino'))\n",
    "fig.update_layout(title='Predições de casos confirmados no Brasil')\n",
    "fig.show()"
   ]
  }
 ],
 "metadata": {
  "kernelspec": {
   "display_name": "Python 3 (ipykernel)",
   "language": "python",
   "name": "python3"
  },
  "language_info": {
   "codemirror_mode": {
    "name": "ipython",
    "version": 3
   },
   "file_extension": ".py",
   "mimetype": "text/x-python",
   "name": "python",
   "nbconvert_exporter": "python",
   "pygments_lexer": "ipython3",
   "version": "3.9.13"
  }
 },
 "nbformat": 4,
 "nbformat_minor": 5
}
